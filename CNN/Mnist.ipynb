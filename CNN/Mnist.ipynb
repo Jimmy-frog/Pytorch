{
 "cells": [
  {
   "cell_type": "code",
   "execution_count": 1,
   "id": "01b5f48d",
   "metadata": {},
   "outputs": [
    {
     "data": {
      "text/plain": [
       "<torch._C.Generator at 0x1f2cdb0f0b0>"
      ]
     },
     "execution_count": 1,
     "metadata": {},
     "output_type": "execute_result"
    }
   ],
   "source": [
    "import torch\n",
    "import torch.nn as nn\n",
    "from torch.autograd import Variable\n",
    "import torch.utils.data as Data\n",
    "import torchvision\n",
    "import matplotlib.pyplot as plt\n",
    "%matplotlib inline\n",
    "\n",
    "torch.manual_seed(1)"
   ]
  },
  {
   "cell_type": "code",
   "execution_count": 2,
   "id": "4e0c0d26",
   "metadata": {},
   "outputs": [],
   "source": [
    "# Hyper Parameters\n",
    "EPOCH = 50     \n",
    "BATCH_SIZE = 100\n",
    "LR = 0.001            \n",
    "DOWNLOAD_MNIST = False"
   ]
  },
  {
   "cell_type": "code",
   "execution_count": 3,
   "id": "7b38f03a",
   "metadata": {},
   "outputs": [],
   "source": [
    "from torchvision import transforms, datasets\n",
    "transform1 = transforms.Compose(\n",
    "    [\n",
    "    #transforms.Resize((224,224)),# 大小\n",
    "    transforms.ToTensor(), # range [0, 255] -> [0.0,1.0]\n",
    "    transforms.Normalize(mean = 0.5, std = (0.5)) # 標準化 (-1,1)\n",
    "    ]\n",
    ")"
   ]
  },
  {
   "cell_type": "code",
   "execution_count": 4,
   "id": "e9a6eb52",
   "metadata": {},
   "outputs": [],
   "source": [
    "# Mnist digits dataset\n",
    "train_data = torchvision.datasets.MNIST(\n",
    "    root='D:\\Data\\mnist',\n",
    "    train=True,                                     # this is training data\n",
    "    transform=transform1,    # Converts a PIL.Image or numpy.ndarray to                            # torch.FloatTensor of shape (C x H x W) and normalize in the range [0.0, 1.0]\n",
    "    download=DOWNLOAD_MNIST,                        # download it if you don't have it\n",
    "    \n",
    ")\n"
   ]
  },
  {
   "cell_type": "code",
   "execution_count": 5,
   "id": "5e37b30a",
   "metadata": {},
   "outputs": [],
   "source": [
    "import random\n",
    "from random import shuffle\n",
    "from torch.utils.data.sampler import SubsetRandomSampler\n",
    "allindex = list(range(6000))\n",
    "splits = random.sample(allindex, 600 )\n",
    "[allindex.remove(split) for split in splits]\n",
    "shuffle(allindex)\n",
    "shuffle(splits)\n",
    "tr_sampler = SubsetRandomSampler(allindex)\n",
    "val_sampler = SubsetRandomSampler(splits)\n"
   ]
  },
  {
   "cell_type": "code",
   "execution_count": 6,
   "id": "fec0f69c",
   "metadata": {},
   "outputs": [
    {
     "name": "stdout",
     "output_type": "stream",
     "text": [
      "torch.Size([60000, 28, 28])\n",
      "torch.Size([60000])\n"
     ]
    },
    {
     "name": "stderr",
     "output_type": "stream",
     "text": [
      "D:\\_Python coding\\Python evn\\practice\\lib\\site-packages\\torchvision\\datasets\\mnist.py:62: UserWarning: train_data has been renamed data\n",
      "  warnings.warn(\"train_data has been renamed data\")\n",
      "D:\\_Python coding\\Python evn\\practice\\lib\\site-packages\\torchvision\\datasets\\mnist.py:52: UserWarning: train_labels has been renamed targets\n",
      "  warnings.warn(\"train_labels has been renamed targets\")\n"
     ]
    },
    {
     "data": {
      "image/png": "[encoded data removed]",
      "text/plain": [
       "<Figure size 432x288 with 1 Axes>"
      ]
     },
     "metadata": {},
     "output_type": "display_data"
    }
   ],
   "source": [
    "# plot one example\n",
    "print(train_data.train_data.size())                 # (60000, 28, 28)\n",
    "print(train_data.train_labels.size())               # (60000)\n",
    "s = random.choice(range(6000))\n",
    "fig = plt.figure()\n",
    "fig.patch.set_facecolor('white')\n",
    "plt.imshow(train_data.train_data[s].numpy(), cmap='gray')\n",
    "plt.title('%i' % train_data.train_labels[s])\n",
    "plt.show()"
   ]
  },
  {
   "cell_type": "code",
   "execution_count": 7,
   "id": "73f05dc4",
   "metadata": {},
   "outputs": [],
   "source": [
    "train_loader = Data.DataLoader(dataset=train_data, batch_size=BATCH_SIZE,sampler=tr_sampler)\n",
    "valid_loader = Data.DataLoader(dataset=train_data, batch_size= 600,sampler=val_sampler)"
   ]
  },
  {
   "cell_type": "code",
   "execution_count": 8,
   "id": "5f6dd0b9",
   "metadata": {},
   "outputs": [],
   "source": [
    "class CNN(nn.Module):\n",
    "    def __init__(self):\n",
    "        super(CNN, self).__init__()\n",
    "       \n",
    "        self.conv1 = nn.Sequential( \n",
    "            # input shape (1, 28, 28)\n",
    "            nn.Conv2d(in_channels=1, out_channels=16, kernel_size=3, stride=1, padding=1), \n",
    "            # (16,28,28)\n",
    "            nn.ReLU(),                      \n",
    "            nn.MaxPool2d(kernel_size=2) \n",
    "            # (16,14,14)\n",
    "        )\n",
    "        self.conv2 = nn.Sequential(         \n",
    "            nn.Conv2d(16, 32, 3, 1, 1),     \n",
    "            nn.ReLU(),     \n",
    "            # (32,14,14)\n",
    "            nn.MaxPool2d(2),   \n",
    "            # (32,7,7)\n",
    "        )\n",
    "        self.out = nn.Linear(32 * 7 * 7, 10)   \n",
    "\n",
    "    def forward(self, x):\n",
    "        x = self.conv1(x)\n",
    "        x = self.conv2(x)\n",
    "        x = x.view(x.size(0),-1 )       \n",
    "        output = self.out(x)\n",
    "        return output  "
   ]
  },
  {
   "cell_type": "code",
   "execution_count": 9,
   "id": "c6423301",
   "metadata": {},
   "outputs": [
    {
     "name": "stdout",
     "output_type": "stream",
     "text": [
      "----------------------------------------------------------------\n",
      "        Layer (type)               Output Shape         Param #\n",
      "================================================================\n",
      "            Conv2d-1           [-1, 16, 28, 28]             160\n",
      "              ReLU-2           [-1, 16, 28, 28]               0\n",
      "         MaxPool2d-3           [-1, 16, 14, 14]               0\n",
      "            Conv2d-4           [-1, 32, 14, 14]           4,640\n",
      "              ReLU-5           [-1, 32, 14, 14]               0\n",
      "         MaxPool2d-6             [-1, 32, 7, 7]               0\n",
      "            Linear-7                   [-1, 10]          15,690\n",
      "================================================================\n",
      "Total params: 20,490\n",
      "Trainable params: 20,490\n",
      "Non-trainable params: 0\n",
      "----------------------------------------------------------------\n",
      "Input size (MB): 0.00\n",
      "Forward/backward pass size (MB): 0.32\n",
      "Params size (MB): 0.08\n",
      "Estimated Total Size (MB): 0.40\n",
      "----------------------------------------------------------------\n"
     ]
    }
   ],
   "source": [
    "from torchsummary import summary\n",
    "model = CNN().to('cuda')\n",
    "summary(model, (1, 28, 28))"
   ]
  },
  {
   "cell_type": "code",
   "execution_count": 10,
   "id": "ad9e1ba8",
   "metadata": {},
   "outputs": [],
   "source": [
    "# optimizer = torch.optim.Adam(model.parameters(), lr=LR)\n",
    "optimizer = torch.optim.SGD(model.parameters(), lr=LR, momentum=0.9)\n",
    "loss_func = nn.CrossEntropyLoss()  "
   ]
  },
  {
   "cell_type": "code",
   "execution_count": 11,
   "id": "74df7195",
   "metadata": {},
   "outputs": [],
   "source": [
    "from tqdm import tqdm_notebook as tqdm"
   ]
  },
  {
   "cell_type": "code",
   "execution_count": 12,
   "id": "7f946ae9",
   "metadata": {
    "scrolled": true
   },
   "outputs": [
    {
     "name": "stdout",
     "output_type": "stream",
     "text": [
      "loss: (2.3119957447052, 'accuracy:', 0.05999999865889549)\n",
      "loss: (2.2410085201263428, 'accuracy:', 0.4399999976158142)\n"
     ]
    },
    {
     "name": "stderr",
     "output_type": "stream",
     "text": [
      "C:\\Users\\user\\AppData\\Local\\Temp/ipykernel_1172/535793059.py:32: TqdmDeprecationWarning: This function will be removed in tqdm==5.0.0\n",
      "Please use `tqdm.notebook.tqdm` instead of `tqdm.tqdm_notebook`\n",
      "  for (x, y) in tqdm(valid_loader) :\n"
     ]
    },
    {
     "data": {
      "application/vnd.jupyter.widget-view+json": {
       "model_id": "ebeac4b2d25e4b36a070abd61a3500ca",
       "version_major": 2,
       "version_minor": 0
      },
      "text/plain": [
       "  0%|          | 0/1 [00:00<?, ?it/s]"
      ]
     },
     "metadata": {},
     "output_type": "display_data"
    },
    {
     "name": "stdout",
     "output_type": "stream",
     "text": [
      "done\n",
      "loss: (2.2135660648345947, 'accuracy:', 0.5899999737739563)\n",
      "loss: (2.0954129695892334, 'accuracy:', 0.699999988079071)\n"
     ]
    },
    {
     "data": {
      "application/vnd.jupyter.widget-view+json": {
       "model_id": "74bdf5a050714edd86d14246c112274e",
       "version_major": 2,
       "version_minor": 0
      },
      "text/plain": [
       "  0%|          | 0/1 [00:00<?, ?it/s]"
      ]
     },
     "metadata": {},
     "output_type": "display_data"
    },
    {
     "name": "stdout",
     "output_type": "stream",
     "text": [
      "done\n",
      "loss: (2.028864860534668, 'accuracy:', 0.7799999713897705)\n",
      "loss: (1.7424063682556152, 'accuracy:', 0.7799999713897705)\n"
     ]
    },
    {
     "data": {
      "application/vnd.jupyter.widget-view+json": {
       "model_id": "b6b6219c2fa649378fb57be1aaa8b31f",
       "version_major": 2,
       "version_minor": 0
      },
      "text/plain": [
       "  0%|          | 0/1 [00:00<?, ?it/s]"
      ]
     },
     "metadata": {},
     "output_type": "display_data"
    },
    {
     "name": "stdout",
     "output_type": "stream",
     "text": [
      "done\n",
      "loss: (1.724432349205017, 'accuracy:', 0.7699999809265137)\n",
      "loss: (1.1761528253555298, 'accuracy:', 0.7799999713897705)\n"
     ]
    },
    {
     "data": {
      "application/vnd.jupyter.widget-view+json": {
       "model_id": "1f2b5624a2604b39951ca267c1e070dc",
       "version_major": 2,
       "version_minor": 0
      },
      "text/plain": [
       "  0%|          | 0/1 [00:00<?, ?it/s]"
      ]
     },
     "metadata": {},
     "output_type": "display_data"
    },
    {
     "name": "stdout",
     "output_type": "stream",
     "text": [
      "done\n",
      "loss: (1.0672333240509033, 'accuracy:', 0.8499999642372131)\n",
      "loss: (0.7569596171379089, 'accuracy:', 0.85999995470047)\n"
     ]
    },
    {
     "data": {
      "application/vnd.jupyter.widget-view+json": {
       "model_id": "b25e217334084a4bae738a6e2c4af717",
       "version_major": 2,
       "version_minor": 0
      },
      "text/plain": [
       "  0%|          | 0/1 [00:00<?, ?it/s]"
      ]
     },
     "metadata": {},
     "output_type": "display_data"
    },
    {
     "name": "stdout",
     "output_type": "stream",
     "text": [
      "done\n",
      "loss: (0.6059602499008179, 'accuracy:', 0.8899999856948853)\n",
      "loss: (0.5841166973114014, 'accuracy:', 0.8399999737739563)\n"
     ]
    },
    {
     "data": {
      "application/vnd.jupyter.widget-view+json": {
       "model_id": "b931d752a28f471695683b9f9072ca2e",
       "version_major": 2,
       "version_minor": 0
      },
      "text/plain": [
       "  0%|          | 0/1 [00:00<?, ?it/s]"
      ]
     },
     "metadata": {},
     "output_type": "display_data"
    },
    {
     "name": "stdout",
     "output_type": "stream",
     "text": [
      "done\n",
      "loss: (0.5754565596580505, 'accuracy:', 0.85999995470047)\n",
      "loss: (0.5176284313201904, 'accuracy:', 0.8299999833106995)\n"
     ]
    },
    {
     "data": {
      "application/vnd.jupyter.widget-view+json": {
       "model_id": "91b1a5a9c1aa4e198de4a78be690c06d",
       "version_major": 2,
       "version_minor": 0
      },
      "text/plain": [
       "  0%|          | 0/1 [00:00<?, ?it/s]"
      ]
     },
     "metadata": {},
     "output_type": "display_data"
    },
    {
     "name": "stdout",
     "output_type": "stream",
     "text": [
      "done\n",
      "loss: (0.4096965789794922, 'accuracy:', 0.8899999856948853)\n",
      "loss: (0.3843483030796051, 'accuracy:', 0.8499999642372131)\n"
     ]
    },
    {
     "data": {
      "application/vnd.jupyter.widget-view+json": {
       "model_id": "349a488709044b139847d3c115ffbe81",
       "version_major": 2,
       "version_minor": 0
      },
      "text/plain": [
       "  0%|          | 0/1 [00:00<?, ?it/s]"
      ]
     },
     "metadata": {},
     "output_type": "display_data"
    },
    {
     "name": "stdout",
     "output_type": "stream",
     "text": [
      "done\n",
      "loss: (0.449088454246521, 'accuracy:', 0.85999995470047)\n",
      "loss: (0.39320486783981323, 'accuracy:', 0.9099999666213989)\n"
     ]
    },
    {
     "data": {
      "application/vnd.jupyter.widget-view+json": {
       "model_id": "521b95fac2044d619adb3b78d0f07afc",
       "version_major": 2,
       "version_minor": 0
      },
      "text/plain": [
       "  0%|          | 0/1 [00:00<?, ?it/s]"
      ]
     },
     "metadata": {},
     "output_type": "display_data"
    },
    {
     "name": "stdout",
     "output_type": "stream",
     "text": [
      "done\n",
      "loss: (0.6582478284835815, 'accuracy:', 0.85999995470047)\n",
      "loss: (0.30834129452705383, 'accuracy:', 0.9300000071525574)\n"
     ]
    },
    {
     "data": {
      "application/vnd.jupyter.widget-view+json": {
       "model_id": "1cb0a6bbc0774597ab348cacec6fa384",
       "version_major": 2,
       "version_minor": 0
      },
      "text/plain": [
       "  0%|          | 0/1 [00:00<?, ?it/s]"
      ]
     },
     "metadata": {},
     "output_type": "display_data"
    },
    {
     "name": "stdout",
     "output_type": "stream",
     "text": [
      "done\n",
      "loss: (0.2990065813064575, 'accuracy:', 0.9199999570846558)\n",
      "loss: (0.24653849005699158, 'accuracy:', 0.9300000071525574)\n"
     ]
    },
    {
     "data": {
      "application/vnd.jupyter.widget-view+json": {
       "model_id": "3688db1bdc8b4bb7a22bd4ee5a8830c6",
       "version_major": 2,
       "version_minor": 0
      },
      "text/plain": [
       "  0%|          | 0/1 [00:00<?, ?it/s]"
      ]
     },
     "metadata": {},
     "output_type": "display_data"
    },
    {
     "name": "stdout",
     "output_type": "stream",
     "text": [
      "done\n",
      "loss: (0.3229685127735138, 'accuracy:', 0.8999999761581421)\n",
      "loss: (0.27843648195266724, 'accuracy:', 0.9300000071525574)\n"
     ]
    },
    {
     "data": {
      "application/vnd.jupyter.widget-view+json": {
       "model_id": "65936cdfc0264303b1208c9182330446",
       "version_major": 2,
       "version_minor": 0
      },
      "text/plain": [
       "  0%|          | 0/1 [00:00<?, ?it/s]"
      ]
     },
     "metadata": {},
     "output_type": "display_data"
    },
    {
     "name": "stdout",
     "output_type": "stream",
     "text": [
      "done\n",
      "loss: (0.3050993084907532, 'accuracy:', 0.9300000071525574)\n",
      "loss: (0.3298887312412262, 'accuracy:', 0.9099999666213989)\n"
     ]
    },
    {
     "data": {
      "application/vnd.jupyter.widget-view+json": {
       "model_id": "6619b60f282a4e7da957c8fa44a11042",
       "version_major": 2,
       "version_minor": 0
      },
      "text/plain": [
       "  0%|          | 0/1 [00:00<?, ?it/s]"
      ]
     },
     "metadata": {},
     "output_type": "display_data"
    },
    {
     "name": "stdout",
     "output_type": "stream",
     "text": [
      "done\n",
      "loss: (0.297267347574234, 'accuracy:', 0.8999999761581421)\n",
      "loss: (0.244592547416687, 'accuracy:', 0.949999988079071)\n"
     ]
    },
    {
     "data": {
      "application/vnd.jupyter.widget-view+json": {
       "model_id": "9ba637b080a942ee9abded8d255b5dfb",
       "version_major": 2,
       "version_minor": 0
      },
      "text/plain": [
       "  0%|          | 0/1 [00:00<?, ?it/s]"
      ]
     },
     "metadata": {},
     "output_type": "display_data"
    },
    {
     "name": "stdout",
     "output_type": "stream",
     "text": [
      "done\n",
      "loss: (0.3880045711994171, 'accuracy:', 0.9300000071525574)\n",
      "loss: (0.25563403964042664, 'accuracy:', 0.8999999761581421)\n"
     ]
    },
    {
     "data": {
      "application/vnd.jupyter.widget-view+json": {
       "model_id": "2feaf988f3e24584860c86dd6b4cba43",
       "version_major": 2,
       "version_minor": 0
      },
      "text/plain": [
       "  0%|          | 0/1 [00:00<?, ?it/s]"
      ]
     },
     "metadata": {},
     "output_type": "display_data"
    },
    {
     "name": "stdout",
     "output_type": "stream",
     "text": [
      "done\n",
      "loss: (0.2409963756799698, 'accuracy:', 0.949999988079071)\n",
      "loss: (0.17823369801044464, 'accuracy:', 0.9599999785423279)\n"
     ]
    },
    {
     "data": {
      "application/vnd.jupyter.widget-view+json": {
       "model_id": "9457fa6dd31b40bab168eb5e42fce277",
       "version_major": 2,
       "version_minor": 0
      },
      "text/plain": [
       "  0%|          | 0/1 [00:00<?, ?it/s]"
      ]
     },
     "metadata": {},
     "output_type": "display_data"
    },
    {
     "name": "stdout",
     "output_type": "stream",
     "text": [
      "done\n",
      "loss: (0.21395941078662872, 'accuracy:', 0.9399999976158142)\n",
      "loss: (0.26916512846946716, 'accuracy:', 0.9099999666213989)\n"
     ]
    },
    {
     "data": {
      "application/vnd.jupyter.widget-view+json": {
       "model_id": "fdec6c943d754dd8a914a1b453cbc9b8",
       "version_major": 2,
       "version_minor": 0
      },
      "text/plain": [
       "  0%|          | 0/1 [00:00<?, ?it/s]"
      ]
     },
     "metadata": {},
     "output_type": "display_data"
    },
    {
     "name": "stdout",
     "output_type": "stream",
     "text": [
      "done\n",
      "loss: (0.22535520792007446, 'accuracy:', 0.9199999570846558)\n",
      "loss: (0.18000349402427673, 'accuracy:', 0.949999988079071)\n"
     ]
    },
    {
     "data": {
      "application/vnd.jupyter.widget-view+json": {
       "model_id": "ff5eda6f07d348fca316a4b875063bc4",
       "version_major": 2,
       "version_minor": 0
      },
      "text/plain": [
       "  0%|          | 0/1 [00:00<?, ?it/s]"
      ]
     },
     "metadata": {},
     "output_type": "display_data"
    },
    {
     "name": "stdout",
     "output_type": "stream",
     "text": [
      "done\n",
      "loss: (0.38764724135398865, 'accuracy:', 0.9099999666213989)\n",
      "loss: (0.13094137609004974, 'accuracy:', 0.9399999976158142)\n"
     ]
    },
    {
     "data": {
      "application/vnd.jupyter.widget-view+json": {
       "model_id": "354db626e07842e28495d7fad9bc2acc",
       "version_major": 2,
       "version_minor": 0
      },
      "text/plain": [
       "  0%|          | 0/1 [00:00<?, ?it/s]"
      ]
     },
     "metadata": {},
     "output_type": "display_data"
    },
    {
     "name": "stdout",
     "output_type": "stream",
     "text": [
      "done\n",
      "loss: (0.27683913707733154, 'accuracy:', 0.9300000071525574)\n",
      "loss: (0.1975289285182953, 'accuracy:', 0.9199999570846558)\n"
     ]
    },
    {
     "data": {
      "application/vnd.jupyter.widget-view+json": {
       "model_id": "9e0fdcca6b3446f1be02ecd689861fc4",
       "version_major": 2,
       "version_minor": 0
      },
      "text/plain": [
       "  0%|          | 0/1 [00:00<?, ?it/s]"
      ]
     },
     "metadata": {},
     "output_type": "display_data"
    },
    {
     "name": "stdout",
     "output_type": "stream",
     "text": [
      "done\n",
      "loss: (0.3072175085544586, 'accuracy:', 0.9300000071525574)\n",
      "loss: (0.27661770582199097, 'accuracy:', 0.9399999976158142)\n"
     ]
    },
    {
     "data": {
      "application/vnd.jupyter.widget-view+json": {
       "model_id": "da6f0ce0e78a40318b81703413cb55fd",
       "version_major": 2,
       "version_minor": 0
      },
      "text/plain": [
       "  0%|          | 0/1 [00:00<?, ?it/s]"
      ]
     },
     "metadata": {},
     "output_type": "display_data"
    },
    {
     "name": "stdout",
     "output_type": "stream",
     "text": [
      "done\n",
      "loss: (0.1493515521287918, 'accuracy:', 0.949999988079071)\n",
      "loss: (0.24675936996936798, 'accuracy:', 0.9399999976158142)\n"
     ]
    },
    {
     "data": {
      "application/vnd.jupyter.widget-view+json": {
       "model_id": "5295cbda3d5242fba3365421e7c84e8d",
       "version_major": 2,
       "version_minor": 0
      },
      "text/plain": [
       "  0%|          | 0/1 [00:00<?, ?it/s]"
      ]
     },
     "metadata": {},
     "output_type": "display_data"
    },
    {
     "name": "stdout",
     "output_type": "stream",
     "text": [
      "done\n",
      "loss: (0.24930782616138458, 'accuracy:', 0.949999988079071)\n",
      "loss: (0.253902405500412, 'accuracy:', 0.949999988079071)\n"
     ]
    },
    {
     "data": {
      "application/vnd.jupyter.widget-view+json": {
       "model_id": "cad00f512e6241ec9e0e047acebfdef0",
       "version_major": 2,
       "version_minor": 0
      },
      "text/plain": [
       "  0%|          | 0/1 [00:00<?, ?it/s]"
      ]
     },
     "metadata": {},
     "output_type": "display_data"
    },
    {
     "name": "stdout",
     "output_type": "stream",
     "text": [
      "done\n",
      "loss: (0.24026742577552795, 'accuracy:', 0.9199999570846558)\n",
      "loss: (0.25138506293296814, 'accuracy:', 0.9300000071525574)\n"
     ]
    },
    {
     "data": {
      "application/vnd.jupyter.widget-view+json": {
       "model_id": "fa43b8e960f840e8a67249072e73ed04",
       "version_major": 2,
       "version_minor": 0
      },
      "text/plain": [
       "  0%|          | 0/1 [00:00<?, ?it/s]"
      ]
     },
     "metadata": {},
     "output_type": "display_data"
    },
    {
     "name": "stdout",
     "output_type": "stream",
     "text": [
      "done\n",
      "loss: (0.14116902649402618, 'accuracy:', 0.9699999690055847)\n",
      "loss: (0.23619800806045532, 'accuracy:', 0.949999988079071)\n"
     ]
    },
    {
     "data": {
      "application/vnd.jupyter.widget-view+json": {
       "model_id": "c5bdc981f5384fb2a5a6e03ff6a900fd",
       "version_major": 2,
       "version_minor": 0
      },
      "text/plain": [
       "  0%|          | 0/1 [00:00<?, ?it/s]"
      ]
     },
     "metadata": {},
     "output_type": "display_data"
    },
    {
     "name": "stdout",
     "output_type": "stream",
     "text": [
      "done\n",
      "loss: (0.09091737866401672, 'accuracy:', 0.9899999499320984)\n",
      "loss: (0.11681664735078812, 'accuracy:', 0.9599999785423279)\n"
     ]
    },
    {
     "data": {
      "application/vnd.jupyter.widget-view+json": {
       "model_id": "92bb21323c32402895e83594f203f462",
       "version_major": 2,
       "version_minor": 0
      },
      "text/plain": [
       "  0%|          | 0/1 [00:00<?, ?it/s]"
      ]
     },
     "metadata": {},
     "output_type": "display_data"
    },
    {
     "name": "stdout",
     "output_type": "stream",
     "text": [
      "done\n",
      "loss: (0.1524398922920227, 'accuracy:', 0.949999988079071)\n",
      "loss: (0.16287370026111603, 'accuracy:', 0.9599999785423279)\n"
     ]
    },
    {
     "data": {
      "application/vnd.jupyter.widget-view+json": {
       "model_id": "ca295cf58122439ab6feb16a7c4f3375",
       "version_major": 2,
       "version_minor": 0
      },
      "text/plain": [
       "  0%|          | 0/1 [00:00<?, ?it/s]"
      ]
     },
     "metadata": {},
     "output_type": "display_data"
    },
    {
     "name": "stdout",
     "output_type": "stream",
     "text": [
      "done\n",
      "loss: (0.0973212793469429, 'accuracy:', 0.9799999594688416)\n",
      "loss: (0.17984914779663086, 'accuracy:', 0.9699999690055847)\n"
     ]
    },
    {
     "data": {
      "application/vnd.jupyter.widget-view+json": {
       "model_id": "b74a7d4319b040199a38b2a36ea47909",
       "version_major": 2,
       "version_minor": 0
      },
      "text/plain": [
       "  0%|          | 0/1 [00:00<?, ?it/s]"
      ]
     },
     "metadata": {},
     "output_type": "display_data"
    },
    {
     "name": "stdout",
     "output_type": "stream",
     "text": [
      "done\n",
      "loss: (0.09972769767045975, 'accuracy:', 0.9699999690055847)\n",
      "loss: (0.12632165849208832, 'accuracy:', 0.9699999690055847)\n"
     ]
    },
    {
     "data": {
      "application/vnd.jupyter.widget-view+json": {
       "model_id": "32790a56d98b40c2bd2620fa4a1e28c5",
       "version_major": 2,
       "version_minor": 0
      },
      "text/plain": [
       "  0%|          | 0/1 [00:00<?, ?it/s]"
      ]
     },
     "metadata": {},
     "output_type": "display_data"
    },
    {
     "name": "stdout",
     "output_type": "stream",
     "text": [
      "done\n",
      "loss: (0.18757957220077515, 'accuracy:', 0.9599999785423279)\n",
      "loss: (0.20690765976905823, 'accuracy:', 0.9199999570846558)\n"
     ]
    },
    {
     "data": {
      "application/vnd.jupyter.widget-view+json": {
       "model_id": "b3e096cfc98c41e1aebc35943712b383",
       "version_major": 2,
       "version_minor": 0
      },
      "text/plain": [
       "  0%|          | 0/1 [00:00<?, ?it/s]"
      ]
     },
     "metadata": {},
     "output_type": "display_data"
    },
    {
     "name": "stdout",
     "output_type": "stream",
     "text": [
      "done\n",
      "loss: (0.15994784235954285, 'accuracy:', 0.9300000071525574)\n",
      "loss: (0.30065035820007324, 'accuracy:', 0.9300000071525574)\n"
     ]
    },
    {
     "data": {
      "application/vnd.jupyter.widget-view+json": {
       "model_id": "cd91230c832440a0ac39bd85d10eb3f3",
       "version_major": 2,
       "version_minor": 0
      },
      "text/plain": [
       "  0%|          | 0/1 [00:00<?, ?it/s]"
      ]
     },
     "metadata": {},
     "output_type": "display_data"
    },
    {
     "name": "stdout",
     "output_type": "stream",
     "text": [
      "done\n",
      "loss: (0.09553063660860062, 'accuracy:', 0.9599999785423279)\n",
      "loss: (0.21152448654174805, 'accuracy:', 0.949999988079071)\n"
     ]
    },
    {
     "data": {
      "application/vnd.jupyter.widget-view+json": {
       "model_id": "362f948255084b5594bdd825fc0e17ad",
       "version_major": 2,
       "version_minor": 0
      },
      "text/plain": [
       "  0%|          | 0/1 [00:00<?, ?it/s]"
      ]
     },
     "metadata": {},
     "output_type": "display_data"
    },
    {
     "name": "stdout",
     "output_type": "stream",
     "text": [
      "done\n",
      "loss: (0.13328087329864502, 'accuracy:', 0.9599999785423279)\n",
      "loss: (0.09754524379968643, 'accuracy:', 0.9799999594688416)\n"
     ]
    },
    {
     "data": {
      "application/vnd.jupyter.widget-view+json": {
       "model_id": "a5e60982a62f4872926d0c8d41a2026e",
       "version_major": 2,
       "version_minor": 0
      },
      "text/plain": [
       "  0%|          | 0/1 [00:00<?, ?it/s]"
      ]
     },
     "metadata": {},
     "output_type": "display_data"
    },
    {
     "name": "stdout",
     "output_type": "stream",
     "text": [
      "done\n",
      "loss: (0.18347713351249695, 'accuracy:', 0.9799999594688416)\n",
      "loss: (0.09096064418554306, 'accuracy:', 0.9799999594688416)\n"
     ]
    },
    {
     "data": {
      "application/vnd.jupyter.widget-view+json": {
       "model_id": "51d581dc642e4e58aaefedf10bdaa5bf",
       "version_major": 2,
       "version_minor": 0
      },
      "text/plain": [
       "  0%|          | 0/1 [00:00<?, ?it/s]"
      ]
     },
     "metadata": {},
     "output_type": "display_data"
    },
    {
     "name": "stdout",
     "output_type": "stream",
     "text": [
      "done\n",
      "loss: (0.15193301439285278, 'accuracy:', 0.9599999785423279)\n",
      "loss: (0.07633257657289505, 'accuracy:', 0.9799999594688416)\n"
     ]
    },
    {
     "data": {
      "application/vnd.jupyter.widget-view+json": {
       "model_id": "ab0858274e0e4a9497cda22cafa6c6e4",
       "version_major": 2,
       "version_minor": 0
      },
      "text/plain": [
       "  0%|          | 0/1 [00:00<?, ?it/s]"
      ]
     },
     "metadata": {},
     "output_type": "display_data"
    },
    {
     "name": "stdout",
     "output_type": "stream",
     "text": [
      "done\n",
      "loss: (0.10520125180482864, 'accuracy:', 0.9699999690055847)\n",
      "loss: (0.13810303807258606, 'accuracy:', 0.9699999690055847)\n"
     ]
    },
    {
     "data": {
      "application/vnd.jupyter.widget-view+json": {
       "model_id": "0af0c657498c49a79f81ab8d900eeec8",
       "version_major": 2,
       "version_minor": 0
      },
      "text/plain": [
       "  0%|          | 0/1 [00:00<?, ?it/s]"
      ]
     },
     "metadata": {},
     "output_type": "display_data"
    },
    {
     "name": "stdout",
     "output_type": "stream",
     "text": [
      "done\n",
      "loss: (0.19441339373588562, 'accuracy:', 0.9300000071525574)\n",
      "loss: (0.1438368409872055, 'accuracy:', 0.9699999690055847)\n"
     ]
    },
    {
     "data": {
      "application/vnd.jupyter.widget-view+json": {
       "model_id": "fda7e8c4dff24ee499224842191ea87c",
       "version_major": 2,
       "version_minor": 0
      },
      "text/plain": [
       "  0%|          | 0/1 [00:00<?, ?it/s]"
      ]
     },
     "metadata": {},
     "output_type": "display_data"
    },
    {
     "name": "stdout",
     "output_type": "stream",
     "text": [
      "done\n",
      "loss: (0.24141623079776764, 'accuracy:', 0.9399999976158142)\n",
      "loss: (0.08713435381650925, 'accuracy:', 0.9699999690055847)\n"
     ]
    },
    {
     "data": {
      "application/vnd.jupyter.widget-view+json": {
       "model_id": "b52d3e59bcd744a2bb63692a5341137b",
       "version_major": 2,
       "version_minor": 0
      },
      "text/plain": [
       "  0%|          | 0/1 [00:00<?, ?it/s]"
      ]
     },
     "metadata": {},
     "output_type": "display_data"
    },
    {
     "name": "stdout",
     "output_type": "stream",
     "text": [
      "done\n",
      "loss: (0.07474841177463531, 'accuracy:', 0.9699999690055847)\n",
      "loss: (0.16167756915092468, 'accuracy:', 0.9699999690055847)\n"
     ]
    },
    {
     "data": {
      "application/vnd.jupyter.widget-view+json": {
       "model_id": "65cee040761b4284bf3c9f4a941bc547",
       "version_major": 2,
       "version_minor": 0
      },
      "text/plain": [
       "  0%|          | 0/1 [00:00<?, ?it/s]"
      ]
     },
     "metadata": {},
     "output_type": "display_data"
    },
    {
     "name": "stdout",
     "output_type": "stream",
     "text": [
      "done\n",
      "loss: (0.08224883675575256, 'accuracy:', 0.9799999594688416)\n",
      "loss: (0.11714759469032288, 'accuracy:', 0.9599999785423279)\n"
     ]
    },
    {
     "data": {
      "application/vnd.jupyter.widget-view+json": {
       "model_id": "044e57055a334721a6bd4eec6bce200f",
       "version_major": 2,
       "version_minor": 0
      },
      "text/plain": [
       "  0%|          | 0/1 [00:00<?, ?it/s]"
      ]
     },
     "metadata": {},
     "output_type": "display_data"
    },
    {
     "name": "stdout",
     "output_type": "stream",
     "text": [
      "done\n",
      "loss: (0.11546015739440918, 'accuracy:', 0.9699999690055847)\n",
      "loss: (0.30860355496406555, 'accuracy:', 0.9399999976158142)\n"
     ]
    },
    {
     "data": {
      "application/vnd.jupyter.widget-view+json": {
       "model_id": "711a5d307048420e85275a61ff0bbb56",
       "version_major": 2,
       "version_minor": 0
      },
      "text/plain": [
       "  0%|          | 0/1 [00:00<?, ?it/s]"
      ]
     },
     "metadata": {},
     "output_type": "display_data"
    },
    {
     "name": "stdout",
     "output_type": "stream",
     "text": [
      "done\n",
      "loss: (0.21533827483654022, 'accuracy:', 0.949999988079071)\n",
      "loss: (0.11442917585372925, 'accuracy:', 0.9699999690055847)\n"
     ]
    },
    {
     "data": {
      "application/vnd.jupyter.widget-view+json": {
       "model_id": "537dc9b8175c417d8565cbd4566683f2",
       "version_major": 2,
       "version_minor": 0
      },
      "text/plain": [
       "  0%|          | 0/1 [00:00<?, ?it/s]"
      ]
     },
     "metadata": {},
     "output_type": "display_data"
    },
    {
     "name": "stdout",
     "output_type": "stream",
     "text": [
      "done\n",
      "loss: (0.2556121349334717, 'accuracy:', 0.9399999976158142)\n",
      "loss: (0.12074021250009537, 'accuracy:', 0.9699999690055847)\n"
     ]
    },
    {
     "data": {
      "application/vnd.jupyter.widget-view+json": {
       "model_id": "f264a6ce4a764bd8a6000183a9e9f4ab",
       "version_major": 2,
       "version_minor": 0
      },
      "text/plain": [
       "  0%|          | 0/1 [00:00<?, ?it/s]"
      ]
     },
     "metadata": {},
     "output_type": "display_data"
    },
    {
     "name": "stdout",
     "output_type": "stream",
     "text": [
      "done\n",
      "loss: (0.09778578579425812, 'accuracy:', 0.9799999594688416)\n",
      "loss: (0.1638374775648117, 'accuracy:', 0.9399999976158142)\n"
     ]
    },
    {
     "data": {
      "application/vnd.jupyter.widget-view+json": {
       "model_id": "9f3cb9e784d24c3e99eaf37f0fcfa991",
       "version_major": 2,
       "version_minor": 0
      },
      "text/plain": [
       "  0%|          | 0/1 [00:00<?, ?it/s]"
      ]
     },
     "metadata": {},
     "output_type": "display_data"
    },
    {
     "name": "stdout",
     "output_type": "stream",
     "text": [
      "done\n",
      "loss: (0.151297464966774, 'accuracy:', 0.9699999690055847)\n",
      "loss: (0.11342980712652206, 'accuracy:', 0.949999988079071)\n"
     ]
    },
    {
     "data": {
      "application/vnd.jupyter.widget-view+json": {
       "model_id": "283bc35381ff4884bf7d03bd1430a18d",
       "version_major": 2,
       "version_minor": 0
      },
      "text/plain": [
       "  0%|          | 0/1 [00:00<?, ?it/s]"
      ]
     },
     "metadata": {},
     "output_type": "display_data"
    },
    {
     "name": "stdout",
     "output_type": "stream",
     "text": [
      "done\n",
      "loss: (0.09365382790565491, 'accuracy:', 0.9799999594688416)\n",
      "loss: (0.11729319393634796, 'accuracy:', 0.9699999690055847)\n"
     ]
    },
    {
     "data": {
      "application/vnd.jupyter.widget-view+json": {
       "model_id": "fc15eff408774bbeafd0b673d89dc4a7",
       "version_major": 2,
       "version_minor": 0
      },
      "text/plain": [
       "  0%|          | 0/1 [00:00<?, ?it/s]"
      ]
     },
     "metadata": {},
     "output_type": "display_data"
    },
    {
     "name": "stdout",
     "output_type": "stream",
     "text": [
      "done\n",
      "loss: (0.03519807755947113, 'accuracy:', 0.9899999499320984)\n",
      "loss: (0.12042465060949326, 'accuracy:', 0.9799999594688416)\n"
     ]
    },
    {
     "data": {
      "application/vnd.jupyter.widget-view+json": {
       "model_id": "8dde7ce70a9d4a758d4372a2ebe50d0d",
       "version_major": 2,
       "version_minor": 0
      },
      "text/plain": [
       "  0%|          | 0/1 [00:00<?, ?it/s]"
      ]
     },
     "metadata": {},
     "output_type": "display_data"
    },
    {
     "name": "stdout",
     "output_type": "stream",
     "text": [
      "done\n",
      "loss: (0.14654089510440826, 'accuracy:', 0.9599999785423279)\n",
      "loss: (0.17923098802566528, 'accuracy:', 0.9399999976158142)\n"
     ]
    },
    {
     "data": {
      "application/vnd.jupyter.widget-view+json": {
       "model_id": "e868dc01101e45cda629026b9b3596a0",
       "version_major": 2,
       "version_minor": 0
      },
      "text/plain": [
       "  0%|          | 0/1 [00:00<?, ?it/s]"
      ]
     },
     "metadata": {},
     "output_type": "display_data"
    },
    {
     "name": "stdout",
     "output_type": "stream",
     "text": [
      "done\n",
      "loss: (0.06900720298290253, 'accuracy:', 0.9899999499320984)\n",
      "loss: (0.15918204188346863, 'accuracy:', 0.9599999785423279)\n"
     ]
    },
    {
     "data": {
      "application/vnd.jupyter.widget-view+json": {
       "model_id": "e28183bed36449b7b378e52571ef49b2",
       "version_major": 2,
       "version_minor": 0
      },
      "text/plain": [
       "  0%|          | 0/1 [00:00<?, ?it/s]"
      ]
     },
     "metadata": {},
     "output_type": "display_data"
    },
    {
     "name": "stdout",
     "output_type": "stream",
     "text": [
      "done\n",
      "loss: (0.13832694292068481, 'accuracy:', 0.949999988079071)\n",
      "loss: (0.14150835573673248, 'accuracy:', 0.9599999785423279)\n"
     ]
    },
    {
     "data": {
      "application/vnd.jupyter.widget-view+json": {
       "model_id": "7151eb3844604837a94962dac49cf298",
       "version_major": 2,
       "version_minor": 0
      },
      "text/plain": [
       "  0%|          | 0/1 [00:00<?, ?it/s]"
      ]
     },
     "metadata": {},
     "output_type": "display_data"
    },
    {
     "name": "stdout",
     "output_type": "stream",
     "text": [
      "done\n"
     ]
    }
   ],
   "source": [
    "train_loss =[]\n",
    "val_loss =[]\n",
    "train_acc =[]\n",
    "val_acc =[]\n",
    "for epoch in range(EPOCH):\n",
    "    model.train()\n",
    "    for step, (x, y) in enumerate(train_loader):   # gives batch data, normalize x when iterate train_loader\n",
    "        b_x = Variable(x).to('cuda')  # batch x\n",
    "        b_y = Variable(y).to('cuda')   # batch y\n",
    "        \n",
    "        output = model(b_x)\n",
    "    \n",
    "        loss = loss_func(output, b_y)   # cross entropy loss\n",
    "        pred_y = torch.max(output, 1)[1].data.squeeze()\n",
    "        accuracy = sum(pred_y == b_y) / b_y.size(0)\n",
    "        \n",
    "        \n",
    "            \n",
    "        optimizer.zero_grad()           # clear gradients for this training step\n",
    "        loss.backward()                 # backpropagation, compute gradients\n",
    "        optimizer.step()                # apply gradients\n",
    "    \n",
    "        if loss<0.5:\n",
    "            optimizer = torch.optim.Adam(model.parameters(), lr=0.0001)\n",
    "        if step%50==0:\n",
    "            print(\"loss:\",(loss.item(),\"accuracy:\",accuracy.item()))\n",
    "        \n",
    "        ################################################################################################\n",
    "    train_loss.append(loss.item())\n",
    "    train_acc.append(accuracy)\n",
    "    model.eval()\n",
    "    for (x, y) in tqdm(valid_loader) :\n",
    "        b_x = Variable(x).to('cuda') \n",
    "        b_y = Variable(y).to('cuda')\n",
    "\n",
    "        output = model(b_x)\n",
    "        loss = loss_func(output, b_y)   # cross entropy loss\n",
    "        pred_y = torch.max(output, 1)[1].data.squeeze()\n",
    "        accuracy = sum(pred_y == b_y) / b_y.size(0)\n",
    "        val_loss.append(loss.item())\n",
    "        val_acc.append(accuracy.item())\n",
    "           \n",
    "    print('done') "
   ]
  },
  {
   "cell_type": "code",
   "execution_count": 15,
   "id": "fa3ac6ba",
   "metadata": {},
   "outputs": [
    {
     "data": {
      "image/png": "[encoded data removed]",
      "text/plain": [
       "<Figure size 432x288 with 1 Axes>"
      ]
     },
     "metadata": {},
     "output_type": "display_data"
    },
    {
     "data": {
      "image/png": "[encoded data removed]",
      "text/plain": [
       "<Figure size 432x288 with 1 Axes>"
      ]
     },
     "metadata": {},
     "output_type": "display_data"
    }
   ],
   "source": [
    "# 損失函數\n",
    "\n",
    "fig = plt.figure()\n",
    "# set_facecolor用于設定背景顏色\n",
    "fig.patch.set_facecolor('white')\n",
    "plt.plot(train_loss)\n",
    "plt.plot(val_loss)\n",
    "plt.title('Model loss')\n",
    "plt.ylabel('Loss')\n",
    "plt.xlabel('Epoch')\n",
    "plt.legend(['Train', 'Test'], loc='upper right')\n",
    "plt.show()\n",
    "\n",
    "\n",
    "fig = plt.figure()\n",
    "# set_facecolor用于設定背景顏色\n",
    "fig.patch.set_facecolor('white')\n",
    "plt.plot(train_acc)\n",
    "plt.plot(val_acc)\n",
    "plt.title('Model accuracy')\n",
    "plt.ylabel('Accuracy')\n",
    "plt.xlabel('Epoch')\n",
    "plt.legend(['Train', 'Test'], loc='upper right')\n",
    "plt.show()"
   ]
  },
  {
   "cell_type": "code",
   "execution_count": null,
   "id": "cf7c00a2",
   "metadata": {},
   "outputs": [],
   "source": []
  }
 ],
 "metadata": {
  "kernelspec": {
   "display_name": "Python 3 (ipykernel)",
   "language": "python",
   "name": "python3"
  },
  "language_info": {
   "codemirror_mode": {
    "name": "ipython",
    "version": 3
   },
   "file_extension": ".py",
   "mimetype": "text/x-python",
   "name": "python",
   "nbconvert_exporter": "python",
   "pygments_lexer": "ipython3",
   "version": "3.9.0"
  }
 },
 "nbformat": 4,
 "nbformat_minor": 5
}
